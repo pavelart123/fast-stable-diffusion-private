git add "Stable Diffusion генерация видео.ipynb"
git commit -m "Added AnimateDiff extension to video generation notebook"
git push origin main